{
  "nbformat": 4,
  "nbformat_minor": 0,
  "metadata": {
    "orig_nbformat": 2,
    "deepnote": {
      "is_reactive": false
    },
    "deepnote_notebook_id": "8a8cb227-041c-4cc2-85ca-cb6fe906669f",
    "deepnote_execution_queue": [],
    "colab": {
      "provenance": [],
      "collapsed_sections": [
        "UVHcQx5O1Ji8",
        "8YHQbfW1-JxX",
        "iQISpbP2PhZe",
        "KuySjxshNUuX"
      ]
    },
    "language_info": {
      "name": "python"
    },
    "kernelspec": {
      "name": "python3",
      "display_name": "Python 3"
    }
  },
  "cells": [
    {
      "cell_type": "markdown",
      "metadata": {
        "id": "dYfxJecbqVK3"
      },
      "source": [
        "#Perbandingan Performansi Metode Clustering dan Metode Klasifikasi"
      ]
    },
    {
      "cell_type": "markdown",
      "metadata": {
        "id": "nTsBw6H_Uivt"
      },
      "source": [
        "Metode Clustering : K-Means Clustering, dan Hierarchical Clustering Single Linkage\n",
        "\n",
        "Metode Classification : K-Nearest Neighbors Classification, dan Support Vector Machine Classification"
      ]
    },
    {
      "cell_type": "markdown",
      "metadata": {
        "tags": [],
        "cell_id": "00000-ee0cb712-7a04-4c9f-8776-84fc7d4ac552",
        "deepnote_cell_type": "text-cell-h1",
        "id": "nD7amj7WR99u"
      },
      "source": [
        "# EDA &amp; Data Preprocessing"
      ]
    },
    {
      "cell_type": "code",
      "metadata": {
        "tags": [],
        "cell_id": "00000-4a44d278-5cd7-40af-af83-defad578e8af",
        "deepnote_to_be_reexecuted": false,
        "source_hash": "8255e42b",
        "execution_millis": 756,
        "execution_start": 1619281467198,
        "deepnote_cell_type": "code",
        "id": "LyaQnGxNR99z"
      },
      "source": [
        "#Menyiapkan Pustaka\n",
        "import numpy as np \n",
        "import pandas as pd\n",
        "\n",
        "#Visualizations\n",
        "import matplotlib.pyplot as plt\n",
        "import seaborn as sns\n",
        "sns.set()"
      ],
      "execution_count": null,
      "outputs": []
    },
    {
      "cell_type": "code",
      "metadata": {
        "tags": [],
        "cell_id": "00001-7b900ca1-e54b-437f-9d8d-e5e7b570bf5d",
        "deepnote_to_be_reexecuted": false,
        "source_hash": "59ec222f",
        "execution_millis": 208,
        "execution_start": 1619281467961,
        "deepnote_cell_type": "code",
        "colab": {
          "base_uri": "https://localhost:8080/",
          "height": 422
        },
        "id": "MasSUjM3R990",
        "outputId": "ef1104ad-b947-42b3-b558-59e4a36c3eb7"
      },
      "source": [
        "# Baca data\n",
        "df = pd.read_csv(\"https://raw.githubusercontent.com/anaconduck/diabetes/main/penguins_size.csv\")\n",
        "df"
      ],
      "execution_count": null,
      "outputs": [
        {
          "output_type": "execute_result",
          "data": {
            "text/html": [
              "<div>\n",
              "<style scoped>\n",
              "    .dataframe tbody tr th:only-of-type {\n",
              "        vertical-align: middle;\n",
              "    }\n",
              "\n",
              "    .dataframe tbody tr th {\n",
              "        vertical-align: top;\n",
              "    }\n",
              "\n",
              "    .dataframe thead th {\n",
              "        text-align: right;\n",
              "    }\n",
              "</style>\n",
              "<table border=\"1\" class=\"dataframe\">\n",
              "  <thead>\n",
              "    <tr style=\"text-align: right;\">\n",
              "      <th></th>\n",
              "      <th>species</th>\n",
              "      <th>island</th>\n",
              "      <th>culmen_length_mm</th>\n",
              "      <th>culmen_depth_mm</th>\n",
              "      <th>flipper_length_mm</th>\n",
              "      <th>body_mass_g</th>\n",
              "      <th>sex</th>\n",
              "    </tr>\n",
              "  </thead>\n",
              "  <tbody>\n",
              "    <tr>\n",
              "      <th>0</th>\n",
              "      <td>Adelie</td>\n",
              "      <td>Torgersen</td>\n",
              "      <td>39.1</td>\n",
              "      <td>18.7</td>\n",
              "      <td>181.0</td>\n",
              "      <td>3750.0</td>\n",
              "      <td>MALE</td>\n",
              "    </tr>\n",
              "    <tr>\n",
              "      <th>1</th>\n",
              "      <td>Adelie</td>\n",
              "      <td>Torgersen</td>\n",
              "      <td>39.5</td>\n",
              "      <td>17.4</td>\n",
              "      <td>186.0</td>\n",
              "      <td>3800.0</td>\n",
              "      <td>FEMALE</td>\n",
              "    </tr>\n",
              "    <tr>\n",
              "      <th>2</th>\n",
              "      <td>Adelie</td>\n",
              "      <td>Torgersen</td>\n",
              "      <td>40.3</td>\n",
              "      <td>18.0</td>\n",
              "      <td>195.0</td>\n",
              "      <td>3250.0</td>\n",
              "      <td>FEMALE</td>\n",
              "    </tr>\n",
              "    <tr>\n",
              "      <th>3</th>\n",
              "      <td>Adelie</td>\n",
              "      <td>Torgersen</td>\n",
              "      <td>NaN</td>\n",
              "      <td>NaN</td>\n",
              "      <td>NaN</td>\n",
              "      <td>NaN</td>\n",
              "      <td>NaN</td>\n",
              "    </tr>\n",
              "    <tr>\n",
              "      <th>4</th>\n",
              "      <td>Adelie</td>\n",
              "      <td>Torgersen</td>\n",
              "      <td>36.7</td>\n",
              "      <td>19.3</td>\n",
              "      <td>193.0</td>\n",
              "      <td>3450.0</td>\n",
              "      <td>FEMALE</td>\n",
              "    </tr>\n",
              "    <tr>\n",
              "      <th>...</th>\n",
              "      <td>...</td>\n",
              "      <td>...</td>\n",
              "      <td>...</td>\n",
              "      <td>...</td>\n",
              "      <td>...</td>\n",
              "      <td>...</td>\n",
              "      <td>...</td>\n",
              "    </tr>\n",
              "    <tr>\n",
              "      <th>339</th>\n",
              "      <td>Gentoo</td>\n",
              "      <td>Biscoe</td>\n",
              "      <td>NaN</td>\n",
              "      <td>NaN</td>\n",
              "      <td>NaN</td>\n",
              "      <td>NaN</td>\n",
              "      <td>NaN</td>\n",
              "    </tr>\n",
              "    <tr>\n",
              "      <th>340</th>\n",
              "      <td>Gentoo</td>\n",
              "      <td>Biscoe</td>\n",
              "      <td>46.8</td>\n",
              "      <td>14.3</td>\n",
              "      <td>215.0</td>\n",
              "      <td>4850.0</td>\n",
              "      <td>FEMALE</td>\n",
              "    </tr>\n",
              "    <tr>\n",
              "      <th>341</th>\n",
              "      <td>Gentoo</td>\n",
              "      <td>Biscoe</td>\n",
              "      <td>50.4</td>\n",
              "      <td>15.7</td>\n",
              "      <td>222.0</td>\n",
              "      <td>5750.0</td>\n",
              "      <td>MALE</td>\n",
              "    </tr>\n",
              "    <tr>\n",
              "      <th>342</th>\n",
              "      <td>Gentoo</td>\n",
              "      <td>Biscoe</td>\n",
              "      <td>45.2</td>\n",
              "      <td>14.8</td>\n",
              "      <td>212.0</td>\n",
              "      <td>5200.0</td>\n",
              "      <td>FEMALE</td>\n",
              "    </tr>\n",
              "    <tr>\n",
              "      <th>343</th>\n",
              "      <td>Gentoo</td>\n",
              "      <td>Biscoe</td>\n",
              "      <td>49.9</td>\n",
              "      <td>16.1</td>\n",
              "      <td>213.0</td>\n",
              "      <td>5400.0</td>\n",
              "      <td>MALE</td>\n",
              "    </tr>\n",
              "  </tbody>\n",
              "</table>\n",
              "<p>344 rows × 7 columns</p>\n",
              "</div>"
            ],
            "text/plain": [
              "    species     island  ...  body_mass_g     sex\n",
              "0    Adelie  Torgersen  ...       3750.0    MALE\n",
              "1    Adelie  Torgersen  ...       3800.0  FEMALE\n",
              "2    Adelie  Torgersen  ...       3250.0  FEMALE\n",
              "3    Adelie  Torgersen  ...          NaN     NaN\n",
              "4    Adelie  Torgersen  ...       3450.0  FEMALE\n",
              "..      ...        ...  ...          ...     ...\n",
              "339  Gentoo     Biscoe  ...          NaN     NaN\n",
              "340  Gentoo     Biscoe  ...       4850.0  FEMALE\n",
              "341  Gentoo     Biscoe  ...       5750.0    MALE\n",
              "342  Gentoo     Biscoe  ...       5200.0  FEMALE\n",
              "343  Gentoo     Biscoe  ...       5400.0    MALE\n",
              "\n",
              "[344 rows x 7 columns]"
            ]
          },
          "metadata": {
            "tags": []
          },
          "execution_count": 2
        }
      ]
    },
    {
      "cell_type": "code",
      "metadata": {
        "tags": [],
        "cell_id": "00002-06c8ecb1-b8d0-4d1d-bf20-e229368113c1",
        "deepnote_to_be_reexecuted": false,
        "source_hash": "cda5259a",
        "execution_millis": 30,
        "execution_start": 1619281468167,
        "deepnote_cell_type": "code",
        "colab": {
          "base_uri": "https://localhost:8080/"
        },
        "id": "IbB5w9lVR991",
        "outputId": "79c2e0c6-6168-4285-dedd-9bb04388d70a"
      },
      "source": [
        "print(f'Ukuran Data : {df.shape}')"
      ],
      "execution_count": null,
      "outputs": [
        {
          "output_type": "stream",
          "text": [
            "Ukuran Data : (344, 7)\n"
          ],
          "name": "stdout"
        }
      ]
    },
    {
      "cell_type": "code",
      "metadata": {
        "tags": [],
        "cell_id": "00003-f06566eb-18a6-4d55-a5df-52d56aa923bd",
        "deepnote_to_be_reexecuted": false,
        "source_hash": "f88152d9",
        "execution_millis": 96,
        "execution_start": 1619281468192,
        "deepnote_cell_type": "code",
        "colab": {
          "base_uri": "https://localhost:8080/"
        },
        "id": "v5mP7bUyR992",
        "outputId": "baf7ef1e-0561-4914-d40b-1b0533300159"
      },
      "source": [
        "df.info()"
      ],
      "execution_count": null,
      "outputs": [
        {
          "output_type": "stream",
          "text": [
            "<class 'pandas.core.frame.DataFrame'>\n",
            "RangeIndex: 344 entries, 0 to 343\n",
            "Data columns (total 7 columns):\n",
            " #   Column             Non-Null Count  Dtype  \n",
            "---  ------             --------------  -----  \n",
            " 0   species            344 non-null    object \n",
            " 1   island             344 non-null    object \n",
            " 2   culmen_length_mm   342 non-null    float64\n",
            " 3   culmen_depth_mm    342 non-null    float64\n",
            " 4   flipper_length_mm  342 non-null    float64\n",
            " 5   body_mass_g        342 non-null    float64\n",
            " 6   sex                334 non-null    object \n",
            "dtypes: float64(4), object(3)\n",
            "memory usage: 18.9+ KB\n"
          ],
          "name": "stdout"
        }
      ]
    },
    {
      "cell_type": "markdown",
      "metadata": {
        "id": "i_taqPJsrurV"
      },
      "source": [
        "##EDA"
      ]
    },
    {
      "cell_type": "code",
      "metadata": {
        "colab": {
          "base_uri": "https://localhost:8080/",
          "height": 338
        },
        "id": "jVO00_3OtcyG",
        "outputId": "66e2e325-a5d1-44ea-a46b-0c859b31bc79"
      },
      "source": [
        "sns.countplot(df['species'],palette='spring');"
      ],
      "execution_count": null,
      "outputs": [
        {
          "output_type": "stream",
          "text": [
            "/usr/local/lib/python3.7/dist-packages/seaborn/_decorators.py:43: FutureWarning: Pass the following variable as a keyword arg: x. From version 0.12, the only valid positional argument will be `data`, and passing other arguments without an explicit keyword will result in an error or misinterpretation.\n",
            "  FutureWarning\n"
          ],
          "name": "stderr"
        },
        {
          "output_type": "display_data",
          "data": {
            "image/png": "[encoded data removed]",
            "text/plain": [
              "<Figure size 432x288 with 1 Axes>"
            ]
          },
          "metadata": {
            "tags": [],
            "needs_background": "light"
          }
        }
      ]
    },
    {
      "cell_type": "code",
      "metadata": {
        "colab": {
          "base_uri": "https://localhost:8080/",
          "height": 583
        },
        "id": "bjMPPAAMtqzk",
        "outputId": "2f197a7e-d285-4977-cf0a-d828927bba63"
      },
      "source": [
        "sns.pairplot(df,hue='species');"
      ],
      "execution_count": null,
      "outputs": [
        {
          "output_type": "display_data",
          "data": {
            "image/png": "[encoded data removed]",
            "text/plain": [
              "<Figure size 812.85x720 with 20 Axes>"
            ]
          },
          "metadata": {
            "tags": [],
            "needs_background": "light"
          }
        }
      ]
    },
    {
      "cell_type": "markdown",
      "metadata": {
        "id": "QxVdf1Ynt47g"
      },
      "source": [
        "Dari gambar diatas, kami dapat melihat clusters dengan pengelompokkan yang baik, yaitu:\n",
        "\n",
        "1. culmen_length_mm vs culmen_depth_mm ;\n",
        "2. culmen_length_mm vs flipper_length_mm ;\n",
        "3. culmen_length_mm vs body_mass_g."
      ]
    },
    {
      "cell_type": "markdown",
      "metadata": {
        "tags": [],
        "cell_id": "00010-548e0e5d-57e6-4bdf-9b97-363ad419f011",
        "deepnote_cell_type": "text-cell-h2",
        "id": "--4OOPSAR995"
      },
      "source": [
        "## Impute Missing Value"
      ]
    },
    {
      "cell_type": "code",
      "metadata": {
        "colab": {
          "base_uri": "https://localhost:8080/"
        },
        "id": "qbwIOIQ1uoxR",
        "outputId": "f9d8b3eb-558e-4244-f689-82d84d3082f2"
      },
      "source": [
        "100*df.isnull().sum()/len(df)"
      ],
      "execution_count": null,
      "outputs": [
        {
          "output_type": "execute_result",
          "data": {
            "text/plain": [
              "species              0.000000\n",
              "island               0.000000\n",
              "culmen_length_mm     0.581395\n",
              "culmen_depth_mm      0.581395\n",
              "flipper_length_mm    0.581395\n",
              "body_mass_g          0.581395\n",
              "sex                  2.906977\n",
              "dtype: float64"
            ]
          },
          "metadata": {
            "tags": []
          },
          "execution_count": 7
        }
      ]
    },
    {
      "cell_type": "code",
      "metadata": {
        "id": "aJSfpxXUuwV4"
      },
      "source": [
        "df['sex'].fillna(df['sex'].mode()[0],inplace=True)\n",
        "col_to_be_imputed = ['culmen_length_mm', 'culmen_depth_mm','flipper_length_mm', 'body_mass_g']\n",
        "for item in col_to_be_imputed:\n",
        "    df[item].fillna(df[item].mean(),inplace=True)"
      ],
      "execution_count": null,
      "outputs": []
    },
    {
      "cell_type": "code",
      "metadata": {
        "colab": {
          "base_uri": "https://localhost:8080/"
        },
        "id": "fDqh1RYmu8nr",
        "outputId": "67f85598-4cc0-4aab-84c2-05cca873ec75"
      },
      "source": [
        "df.sex.value_counts()"
      ],
      "execution_count": null,
      "outputs": [
        {
          "output_type": "execute_result",
          "data": {
            "text/plain": [
              "MALE      178\n",
              "FEMALE    165\n",
              ".           1\n",
              "Name: sex, dtype: int64"
            ]
          },
          "metadata": {
            "tags": []
          },
          "execution_count": 9
        }
      ]
    },
    {
      "cell_type": "code",
      "metadata": {
        "colab": {
          "base_uri": "https://localhost:8080/",
          "height": 97
        },
        "id": "e0rM1oYbvJEz",
        "outputId": "db164e96-fa45-4ec3-aada-20b36530274b"
      },
      "source": [
        "df[df['sex']=='.']"
      ],
      "execution_count": null,
      "outputs": [
        {
          "output_type": "execute_result",
          "data": {
            "text/html": [
              "<div>\n",
              "<style scoped>\n",
              "    .dataframe tbody tr th:only-of-type {\n",
              "        vertical-align: middle;\n",
              "    }\n",
              "\n",
              "    .dataframe tbody tr th {\n",
              "        vertical-align: top;\n",
              "    }\n",
              "\n",
              "    .dataframe thead th {\n",
              "        text-align: right;\n",
              "    }\n",
              "</style>\n",
              "<table border=\"1\" class=\"dataframe\">\n",
              "  <thead>\n",
              "    <tr style=\"text-align: right;\">\n",
              "      <th></th>\n",
              "      <th>species</th>\n",
              "      <th>island</th>\n",
              "      <th>culmen_length_mm</th>\n",
              "      <th>culmen_depth_mm</th>\n",
              "      <th>flipper_length_mm</th>\n",
              "      <th>body_mass_g</th>\n",
              "      <th>sex</th>\n",
              "    </tr>\n",
              "  </thead>\n",
              "  <tbody>\n",
              "    <tr>\n",
              "      <th>336</th>\n",
              "      <td>Gentoo</td>\n",
              "      <td>Biscoe</td>\n",
              "      <td>44.5</td>\n",
              "      <td>15.7</td>\n",
              "      <td>217.0</td>\n",
              "      <td>4875.0</td>\n",
              "      <td>.</td>\n",
              "    </tr>\n",
              "  </tbody>\n",
              "</table>\n",
              "</div>"
            ],
            "text/plain": [
              "    species  island  culmen_length_mm  ...  flipper_length_mm  body_mass_g  sex\n",
              "336  Gentoo  Biscoe              44.5  ...              217.0       4875.0    .\n",
              "\n",
              "[1 rows x 7 columns]"
            ]
          },
          "metadata": {
            "tags": []
          },
          "execution_count": 10
        }
      ]
    },
    {
      "cell_type": "code",
      "metadata": {
        "id": "KxJlYbmlvN7D"
      },
      "source": [
        "df.loc[336,'sex'] = 'FEMALE'"
      ],
      "execution_count": null,
      "outputs": []
    },
    {
      "cell_type": "markdown",
      "metadata": {
        "id": "FbGUMZqGvT0y"
      },
      "source": [
        "##Encoding Data"
      ]
    },
    {
      "cell_type": "code",
      "metadata": {
        "id": "yVgK74D0vc4k"
      },
      "source": [
        "df['species'] = df['species'].map({'Adelie':0,'Gentoo':1,'Chinstrap':2})\n",
        "\n",
        "# creating dummy variables\n",
        "dummies = pd.get_dummies(df[['island','sex']],drop_first=True)"
      ],
      "execution_count": null,
      "outputs": []
    },
    {
      "cell_type": "code",
      "metadata": {
        "colab": {
          "base_uri": "https://localhost:8080/",
          "height": 402
        },
        "id": "9_0rLx2xvobe",
        "outputId": "bd5afca5-301f-452d-88ad-b2a428a1db4f"
      },
      "source": [
        "dummies"
      ],
      "execution_count": null,
      "outputs": [
        {
          "output_type": "execute_result",
          "data": {
            "text/html": [
              "<div>\n",
              "<style scoped>\n",
              "    .dataframe tbody tr th:only-of-type {\n",
              "        vertical-align: middle;\n",
              "    }\n",
              "\n",
              "    .dataframe tbody tr th {\n",
              "        vertical-align: top;\n",
              "    }\n",
              "\n",
              "    .dataframe thead th {\n",
              "        text-align: right;\n",
              "    }\n",
              "</style>\n",
              "<table border=\"1\" class=\"dataframe\">\n",
              "  <thead>\n",
              "    <tr style=\"text-align: right;\">\n",
              "      <th></th>\n",
              "      <th>island_Dream</th>\n",
              "      <th>island_Torgersen</th>\n",
              "      <th>sex_MALE</th>\n",
              "    </tr>\n",
              "  </thead>\n",
              "  <tbody>\n",
              "    <tr>\n",
              "      <th>0</th>\n",
              "      <td>0</td>\n",
              "      <td>1</td>\n",
              "      <td>1</td>\n",
              "    </tr>\n",
              "    <tr>\n",
              "      <th>1</th>\n",
              "      <td>0</td>\n",
              "      <td>1</td>\n",
              "      <td>0</td>\n",
              "    </tr>\n",
              "    <tr>\n",
              "      <th>2</th>\n",
              "      <td>0</td>\n",
              "      <td>1</td>\n",
              "      <td>0</td>\n",
              "    </tr>\n",
              "    <tr>\n",
              "      <th>3</th>\n",
              "      <td>0</td>\n",
              "      <td>1</td>\n",
              "      <td>1</td>\n",
              "    </tr>\n",
              "    <tr>\n",
              "      <th>4</th>\n",
              "      <td>0</td>\n",
              "      <td>1</td>\n",
              "      <td>0</td>\n",
              "    </tr>\n",
              "    <tr>\n",
              "      <th>...</th>\n",
              "      <td>...</td>\n",
              "      <td>...</td>\n",
              "      <td>...</td>\n",
              "    </tr>\n",
              "    <tr>\n",
              "      <th>339</th>\n",
              "      <td>0</td>\n",
              "      <td>0</td>\n",
              "      <td>1</td>\n",
              "    </tr>\n",
              "    <tr>\n",
              "      <th>340</th>\n",
              "      <td>0</td>\n",
              "      <td>0</td>\n",
              "      <td>0</td>\n",
              "    </tr>\n",
              "    <tr>\n",
              "      <th>341</th>\n",
              "      <td>0</td>\n",
              "      <td>0</td>\n",
              "      <td>1</td>\n",
              "    </tr>\n",
              "    <tr>\n",
              "      <th>342</th>\n",
              "      <td>0</td>\n",
              "      <td>0</td>\n",
              "      <td>0</td>\n",
              "    </tr>\n",
              "    <tr>\n",
              "      <th>343</th>\n",
              "      <td>0</td>\n",
              "      <td>0</td>\n",
              "      <td>1</td>\n",
              "    </tr>\n",
              "  </tbody>\n",
              "</table>\n",
              "<p>344 rows × 3 columns</p>\n",
              "</div>"
            ],
            "text/plain": [
              "     island_Dream  island_Torgersen  sex_MALE\n",
              "0               0                 1         1\n",
              "1               0                 1         0\n",
              "2               0                 1         0\n",
              "3               0                 1         1\n",
              "4               0                 1         0\n",
              "..            ...               ...       ...\n",
              "339             0                 0         1\n",
              "340             0                 0         0\n",
              "341             0                 0         1\n",
              "342             0                 0         0\n",
              "343             0                 0         1\n",
              "\n",
              "[344 rows x 3 columns]"
            ]
          },
          "metadata": {
            "tags": []
          },
          "execution_count": 13
        }
      ]
    },
    {
      "cell_type": "markdown",
      "metadata": {
        "tags": [],
        "cell_id": "00010-f3958c7d-790b-404f-a2cc-207cd19ff613",
        "deepnote_cell_type": "text-cell-h2",
        "id": "MQFtus-fR996"
      },
      "source": [
        "## Normalization"
      ]
    },
    {
      "cell_type": "code",
      "metadata": {
        "id": "KgA5DUNfv41e"
      },
      "source": [
        "df_to_be_scaled = df.drop(['island','sex'],axis=1)\n",
        "target = df_to_be_scaled.species\n",
        "df_feat= df_to_be_scaled.drop('species',axis=1)"
      ],
      "execution_count": null,
      "outputs": []
    },
    {
      "cell_type": "code",
      "metadata": {
        "colab": {
          "base_uri": "https://localhost:8080/",
          "height": 215
        },
        "id": "0gThMFcTwCKN",
        "outputId": "1da35b47-ee7e-4a07-fd66-84c478eb2891"
      },
      "source": [
        "from sklearn.preprocessing import StandardScaler\n",
        "scaler = StandardScaler()\n",
        "scaler.fit(df_feat)\n",
        "df_scaled = scaler.transform(df_feat)\n",
        "df_scaled = pd.DataFrame(df_scaled,columns=df_feat.columns[:4])\n",
        "df_normal = pd.concat([df_scaled,dummies,target],axis=1)\n",
        "df_normal.head()"
      ],
      "execution_count": null,
      "outputs": [
        {
          "output_type": "execute_result",
          "data": {
            "text/html": [
              "<div>\n",
              "<style scoped>\n",
              "    .dataframe tbody tr th:only-of-type {\n",
              "        vertical-align: middle;\n",
              "    }\n",
              "\n",
              "    .dataframe tbody tr th {\n",
              "        vertical-align: top;\n",
              "    }\n",
              "\n",
              "    .dataframe thead th {\n",
              "        text-align: right;\n",
              "    }\n",
              "</style>\n",
              "<table border=\"1\" class=\"dataframe\">\n",
              "  <thead>\n",
              "    <tr style=\"text-align: right;\">\n",
              "      <th></th>\n",
              "      <th>culmen_length_mm</th>\n",
              "      <th>culmen_depth_mm</th>\n",
              "      <th>flipper_length_mm</th>\n",
              "      <th>body_mass_g</th>\n",
              "      <th>island_Dream</th>\n",
              "      <th>island_Torgersen</th>\n",
              "      <th>sex_MALE</th>\n",
              "      <th>species</th>\n",
              "    </tr>\n",
              "  </thead>\n",
              "  <tbody>\n",
              "    <tr>\n",
              "      <th>0</th>\n",
              "      <td>-8.870812e-01</td>\n",
              "      <td>7.877425e-01</td>\n",
              "      <td>-1.422488</td>\n",
              "      <td>-0.565789</td>\n",
              "      <td>0</td>\n",
              "      <td>1</td>\n",
              "      <td>1</td>\n",
              "      <td>0</td>\n",
              "    </tr>\n",
              "    <tr>\n",
              "      <th>1</th>\n",
              "      <td>-8.134940e-01</td>\n",
              "      <td>1.265563e-01</td>\n",
              "      <td>-1.065352</td>\n",
              "      <td>-0.503168</td>\n",
              "      <td>0</td>\n",
              "      <td>1</td>\n",
              "      <td>0</td>\n",
              "      <td>0</td>\n",
              "    </tr>\n",
              "    <tr>\n",
              "      <th>2</th>\n",
              "      <td>-6.663195e-01</td>\n",
              "      <td>4.317192e-01</td>\n",
              "      <td>-0.422507</td>\n",
              "      <td>-1.192003</td>\n",
              "      <td>0</td>\n",
              "      <td>1</td>\n",
              "      <td>0</td>\n",
              "      <td>0</td>\n",
              "    </tr>\n",
              "    <tr>\n",
              "      <th>3</th>\n",
              "      <td>1.307172e-15</td>\n",
              "      <td>1.806927e-15</td>\n",
              "      <td>0.000000</td>\n",
              "      <td>0.000000</td>\n",
              "      <td>0</td>\n",
              "      <td>1</td>\n",
              "      <td>1</td>\n",
              "      <td>0</td>\n",
              "    </tr>\n",
              "    <tr>\n",
              "      <th>4</th>\n",
              "      <td>-1.328605e+00</td>\n",
              "      <td>1.092905e+00</td>\n",
              "      <td>-0.565361</td>\n",
              "      <td>-0.941517</td>\n",
              "      <td>0</td>\n",
              "      <td>1</td>\n",
              "      <td>0</td>\n",
              "      <td>0</td>\n",
              "    </tr>\n",
              "  </tbody>\n",
              "</table>\n",
              "</div>"
            ],
            "text/plain": [
              "   culmen_length_mm  culmen_depth_mm  ...  sex_MALE  species\n",
              "0     -8.870812e-01     7.877425e-01  ...         1        0\n",
              "1     -8.134940e-01     1.265563e-01  ...         0        0\n",
              "2     -6.663195e-01     4.317192e-01  ...         0        0\n",
              "3      1.307172e-15     1.806927e-15  ...         1        0\n",
              "4     -1.328605e+00     1.092905e+00  ...         0        0\n",
              "\n",
              "[5 rows x 8 columns]"
            ]
          },
          "metadata": {
            "tags": []
          },
          "execution_count": 15
        }
      ]
    },
    {
      "cell_type": "code",
      "metadata": {
        "colab": {
          "base_uri": "https://localhost:8080/"
        },
        "id": "CzJdvEo3CP2k",
        "outputId": "ace974d9-0f64-4e0c-9d8d-1a40f64ea48c"
      },
      "source": [
        "df_normal['species'].unique()"
      ],
      "execution_count": null,
      "outputs": [
        {
          "output_type": "execute_result",
          "data": {
            "text/plain": [
              "array([0, 2, 1])"
            ]
          },
          "metadata": {
            "tags": []
          },
          "execution_count": 16
        }
      ]
    },
    {
      "cell_type": "markdown",
      "metadata": {
        "id": "qj5eW2njwSPx"
      },
      "source": [
        "#K-Means Clustering"
      ]
    },
    {
      "cell_type": "code",
      "metadata": {
        "id": "1GbnyxWEDJ5t"
      },
      "source": [
        "#time counter\n",
        "import timeit\n"
      ],
      "execution_count": null,
      "outputs": []
    },
    {
      "cell_type": "code",
      "metadata": {
        "colab": {
          "base_uri": "https://localhost:8080/"
        },
        "id": "e1E_jFPxwiVU",
        "outputId": "fdd5602e-bc3a-4d30-ba9b-9679adbe5bd5"
      },
      "source": [
        "#import library\n",
        "from sklearn.cluster import KMeans\n",
        "\n",
        "#lakukan clustering\n",
        "kmeans = KMeans(3,init='k-means++')\n",
        "kmeans.fit(df_normal.drop('species',axis=1))"
      ],
      "execution_count": null,
      "outputs": [
        {
          "output_type": "stream",
          "text": [
            "[[141   0  11]\n",
            " [  0 123   1]\n",
            " [  5   0  63]]\n"
          ],
          "name": "stdout"
        }
      ]
    },
    {
      "cell_type": "code",
      "metadata": {
        "colab": {
          "base_uri": "https://localhost:8080/"
        },
        "id": "egPn_kCvRjZE",
        "outputId": "b6831ead-f07a-41ec-d58f-b21a509e947e"
      },
      "source": [
        "print(kmeans.labels_)"
      ],
      "execution_count": null,
      "outputs": [
        {
          "output_type": "stream",
          "text": [
            "[0 0 0 0 0 0 0 0 0 0 0 0 0 0 0 0 0 0 0 2 0 0 0 0 0 0 0 0 0 0 0 0 0 0 0 0 0\n",
            " 0 0 0 0 0 0 2 0 0 0 0 0 2 0 0 0 0 0 0 0 0 0 0 0 0 0 0 0 0 0 0 0 0 0 0 0 2\n",
            " 0 0 0 0 0 0 0 0 0 0 0 0 0 0 0 0 0 2 0 0 0 2 0 0 0 2 0 0 0 0 0 0 0 0 0 2 0\n",
            " 2 0 0 0 0 0 0 0 0 0 0 0 0 0 0 0 0 0 2 0 0 0 0 0 0 0 0 0 0 0 0 0 0 0 0 0 0\n",
            " 0 0 0 2 2 2 2 2 2 2 2 2 2 2 2 2 2 2 2 2 2 2 2 2 0 2 0 2 2 2 2 2 2 2 0 2 0\n",
            " 2 2 2 2 2 2 2 2 2 2 2 2 2 2 2 2 2 2 2 2 2 0 2 2 2 2 2 2 2 2 2 2 2 2 2 1 1\n",
            " 1 1 1 1 1 1 1 1 1 1 1 1 1 1 1 1 1 1 1 1 1 1 1 1 1 1 1 1 1 1 1 1 1 1 1 1 1\n",
            " 1 1 1 1 1 1 1 1 1 1 1 1 1 1 1 1 1 1 1 1 1 1 1 1 1 1 1 1 1 1 1 1 1 1 1 1 1\n",
            " 1 1 1 1 1 1 1 1 1 1 1 1 1 1 1 1 1 1 1 1 1 1 1 1 1 1 1 1 1 1 1 1 1 1 1 1 1\n",
            " 1 1 1 1 1 1 2 1 1 1 1]\n"
          ],
          "name": "stdout"
        }
      ]
    },
    {
      "cell_type": "code",
      "metadata": {
        "id": "yENvl-VxB7TM"
      },
      "source": [
        "labels = kmeans.labels_.copy()\n",
        "X=df_normal.copy()\n",
        "labels_true=df_normal['species'].copy()"
      ],
      "execution_count": null,
      "outputs": []
    },
    {
      "cell_type": "code",
      "metadata": {
        "colab": {
          "base_uri": "https://localhost:8080/"
        },
        "id": "DGs4BZ7iwof1",
        "outputId": "9ee556d1-e390-4cab-cb1f-b81a37ef07b0"
      },
      "source": [
        "print(classification_report(df_normal.species,kmeans.labels_))"
      ],
      "execution_count": null,
      "outputs": [
        {
          "output_type": "stream",
          "text": [
            "              precision    recall  f1-score   support\n",
            "\n",
            "           0       0.97      0.93      0.95       152\n",
            "           1       1.00      0.99      1.00       124\n",
            "           2       0.84      0.93      0.88        68\n",
            "\n",
            "    accuracy                           0.95       344\n",
            "   macro avg       0.94      0.95      0.94       344\n",
            "weighted avg       0.95      0.95      0.95       344\n",
            "\n"
          ],
          "name": "stdout"
        }
      ]
    },
    {
      "cell_type": "code",
      "metadata": {
        "colab": {
          "base_uri": "https://localhost:8080/",
          "height": 35
        },
        "id": "lCmw6XyEw_l1",
        "outputId": "909e303f-2187-4a43-918f-b290796db851"
      },
      "source": [
        "f\"Accuracy : {np.round(100*accuracy_score(df_normal.species,kmeans.labels_),2)}\""
      ],
      "execution_count": null,
      "outputs": [
        {
          "output_type": "execute_result",
          "data": {
            "application/vnd.google.colaboratory.intrinsic+json": {
              "type": "string"
            },
            "text/plain": [
              "'Accuracy : 95.06'"
            ]
          },
          "metadata": {
            "tags": []
          },
          "execution_count": 22
        }
      ]
    },
    {
      "cell_type": "markdown",
      "metadata": {
        "id": "_0g9fR7q-S-W"
      },
      "source": [
        "##Runtime"
      ]
    },
    {
      "cell_type": "code",
      "metadata": {
        "colab": {
          "base_uri": "https://localhost:8080/"
        },
        "id": "xFvuoMZ8Dp2H",
        "outputId": "a4ec7f3e-c137-4ee4-e96d-9f88c684a46a"
      },
      "source": [
        "print('KMC Time: ', stopkmc - startkmc)"
      ],
      "execution_count": null,
      "outputs": [
        {
          "output_type": "stream",
          "text": [
            "KMC Time:  9.663099990575574e-05\n"
          ],
          "name": "stdout"
        }
      ]
    },
    {
      "cell_type": "markdown",
      "metadata": {
        "id": "UVHcQx5O1Ji8"
      },
      "source": [
        "##Evaluasi Clustering"
      ]
    },
    {
      "cell_type": "markdown",
      "metadata": {
        "id": "dn8vUM5_Bqii"
      },
      "source": [
        "###Davies-Bouldin Index"
      ]
    },
    {
      "cell_type": "code",
      "metadata": {
        "colab": {
          "base_uri": "https://localhost:8080/"
        },
        "id": "UDRzWw0eBnkN",
        "outputId": "ee1e2a74-9a76-4797-b71c-074924487f64"
      },
      "source": [
        "from sklearn.metrics import davies_bouldin_score\n",
        "davies_bouldin_score(X, labels)"
      ],
      "execution_count": null,
      "outputs": [
        {
          "output_type": "execute_result",
          "data": {
            "text/plain": [
              "0.9534191405306398"
            ]
          },
          "metadata": {
            "tags": []
          },
          "execution_count": 24
        }
      ]
    },
    {
      "cell_type": "markdown",
      "metadata": {
        "id": "L3BN5RaBEE7T"
      },
      "source": [
        "###Silhouette Coefficient"
      ]
    },
    {
      "cell_type": "code",
      "metadata": {
        "colab": {
          "base_uri": "https://localhost:8080/"
        },
        "id": "FsEv2ffoEHxE",
        "outputId": "d8edbd40-4549-49b6-dab7-b35243682c7a"
      },
      "source": [
        "from sklearn import metrics\n",
        "from sklearn.metrics import pairwise_distances\n",
        "metrics.silhouette_score(X, labels, metric='euclidean')"
      ],
      "execution_count": null,
      "outputs": [
        {
          "output_type": "execute_result",
          "data": {
            "text/plain": [
              "0.4561612462200026"
            ]
          },
          "metadata": {
            "tags": []
          },
          "execution_count": 25
        }
      ]
    },
    {
      "cell_type": "markdown",
      "metadata": {
        "id": "N1dAEo18EmgP"
      },
      "source": [
        "###Rand index"
      ]
    },
    {
      "cell_type": "code",
      "metadata": {
        "colab": {
          "base_uri": "https://localhost:8080/"
        },
        "id": "4IKY7lYLEn74",
        "outputId": "9d772d2c-094d-47a7-a649-1a3ce81be80b"
      },
      "source": [
        "from sklearn import metrics\n",
        "metrics.adjusted_rand_score(labels_true, labels)"
      ],
      "execution_count": null,
      "outputs": [
        {
          "output_type": "execute_result",
          "data": {
            "text/plain": [
              "0.8723895532348954"
            ]
          },
          "metadata": {
            "tags": []
          },
          "execution_count": 26
        }
      ]
    },
    {
      "cell_type": "markdown",
      "metadata": {
        "id": "YFmQ25DHGIWW"
      },
      "source": [
        "###Mutual Information based scores"
      ]
    },
    {
      "cell_type": "code",
      "metadata": {
        "colab": {
          "base_uri": "https://localhost:8080/"
        },
        "id": "adtOl-1MGK-D",
        "outputId": "e869066a-6faa-4c4b-dc19-5b8511d1528c"
      },
      "source": [
        "from sklearn import metrics\n",
        "metrics.adjusted_mutual_info_score(labels_true, labels) "
      ],
      "execution_count": null,
      "outputs": [
        {
          "output_type": "execute_result",
          "data": {
            "text/plain": [
              "0.8320855556087958"
            ]
          },
          "metadata": {
            "tags": []
          },
          "execution_count": 27
        }
      ]
    },
    {
      "cell_type": "markdown",
      "metadata": {
        "id": "N_yiXQKRGSDS"
      },
      "source": [
        "###Homogeneity"
      ]
    },
    {
      "cell_type": "code",
      "metadata": {
        "colab": {
          "base_uri": "https://localhost:8080/"
        },
        "id": "2Wl1rmYBGXxe",
        "outputId": "ee894580-6e4a-41db-80a4-e7625f11e501"
      },
      "source": [
        "from sklearn import metrics\n",
        "metrics.homogeneity_score(labels_true, labels)"
      ],
      "execution_count": null,
      "outputs": [
        {
          "output_type": "execute_result",
          "data": {
            "text/plain": [
              "0.8387365447174371"
            ]
          },
          "metadata": {
            "tags": []
          },
          "execution_count": 28
        }
      ]
    },
    {
      "cell_type": "markdown",
      "metadata": {
        "id": "7qd3H5LqGoYt"
      },
      "source": [
        "###Completeness"
      ]
    },
    {
      "cell_type": "code",
      "metadata": {
        "colab": {
          "base_uri": "https://localhost:8080/"
        },
        "id": "HRPTZvOnGoYu",
        "outputId": "bc45d4f3-3ec5-4db2-e92e-e6c833c3aca5"
      },
      "source": [
        "from sklearn import metrics\n",
        "metrics.completeness_score(labels_true, labels)"
      ],
      "execution_count": null,
      "outputs": [
        {
          "output_type": "execute_result",
          "data": {
            "text/plain": [
              "0.8273786091587741"
            ]
          },
          "metadata": {
            "tags": []
          },
          "execution_count": 29
        }
      ]
    },
    {
      "cell_type": "markdown",
      "metadata": {
        "id": "A-UATaqyGqDF"
      },
      "source": [
        "###V-measure"
      ]
    },
    {
      "cell_type": "code",
      "metadata": {
        "colab": {
          "base_uri": "https://localhost:8080/"
        },
        "id": "2YUZN5rbGqDF",
        "outputId": "ae82596e-0117-42cd-a46c-79e043ece606"
      },
      "source": [
        "from sklearn import metrics\n",
        "metrics.v_measure_score(labels_true, labels)"
      ],
      "execution_count": null,
      "outputs": [
        {
          "output_type": "execute_result",
          "data": {
            "text/plain": [
              "0.8330188633174249"
            ]
          },
          "metadata": {
            "tags": []
          },
          "execution_count": 30
        }
      ]
    },
    {
      "cell_type": "markdown",
      "metadata": {
        "id": "9BolP5qVGqim"
      },
      "source": [
        "###Fowlkes-Mallows scores"
      ]
    },
    {
      "cell_type": "code",
      "metadata": {
        "colab": {
          "base_uri": "https://localhost:8080/"
        },
        "id": "rNM1u_AoGqim",
        "outputId": "7f3e47b2-1563-4dcf-e340-1f60257c42d9"
      },
      "source": [
        "from sklearn import metrics\n",
        "metrics.fowlkes_mallows_score(labels_true, labels)"
      ],
      "execution_count": null,
      "outputs": [
        {
          "output_type": "execute_result",
          "data": {
            "text/plain": [
              "0.918138030656963"
            ]
          },
          "metadata": {
            "tags": []
          },
          "execution_count": 31
        }
      ]
    },
    {
      "cell_type": "markdown",
      "metadata": {
        "id": "QscsUgE8Gqs_"
      },
      "source": [
        "###Calinski-Harabasz Index"
      ]
    },
    {
      "cell_type": "code",
      "metadata": {
        "colab": {
          "base_uri": "https://localhost:8080/"
        },
        "id": "OKSCL7ViGqs_",
        "outputId": "3978c98e-449d-4e03-ae74-ac38558e71c3"
      },
      "source": [
        "from sklearn import metrics\n",
        "from sklearn.metrics import pairwise_distances\n",
        "metrics.calinski_harabasz_score(X, labels)"
      ],
      "execution_count": null,
      "outputs": [
        {
          "output_type": "execute_result",
          "data": {
            "text/plain": [
              "330.75880439204394"
            ]
          },
          "metadata": {
            "tags": []
          },
          "execution_count": 32
        }
      ]
    },
    {
      "cell_type": "markdown",
      "metadata": {
        "id": "ZMT36Sk4PhZU"
      },
      "source": [
        "#Hierarchical Clustering Single Linkage\n"
      ]
    },
    {
      "cell_type": "code",
      "metadata": {
        "id": "Qe2ch-A0PhZa"
      },
      "source": [
        "#time counter\n",
        "import timeit\n"
      ],
      "execution_count": null,
      "outputs": []
    },
    {
      "cell_type": "code",
      "metadata": {
        "colab": {
          "base_uri": "https://localhost:8080/"
        },
        "id": "fbPx57WwPhZb",
        "outputId": "ff829a4a-53be-4d69-e2b5-4a36933a1126"
      },
      "source": [
        "#import library\n",
        "from sklearn.cluster import AgglomerativeClustering\n",
        "from sklearn.metrics import confusion_matrix,classification_report,accuracy_score\n",
        "\n",
        "#lakukan clustering\n",
        "startagc = timeit.default_timer()\n",
        "agc = AgglomerativeClustering(n_clusters=3,linkage='single').fit(df_normal.drop('species',axis=1))\n",
        "stopagc = timeit.default_timer()\n",
        "print(confusion_matrix(df_normal.species,agc.labels_))"
      ],
      "execution_count": null,
      "outputs": [
        {
          "output_type": "stream",
          "text": [
            "[[152   0   0]\n",
            " [  1 123   0]\n",
            " [ 67   0   1]]\n"
          ],
          "name": "stdout"
        }
      ]
    },
    {
      "cell_type": "code",
      "metadata": {
        "colab": {
          "base_uri": "https://localhost:8080/"
        },
        "id": "YD79rSXARal4",
        "outputId": "3b4357d3-cf85-4089-9d2a-7d523fe2eec1"
      },
      "source": [
        "print(agc.labels_)"
      ],
      "execution_count": null,
      "outputs": [
        {
          "output_type": "stream",
          "text": [
            "[0 0 0 0 0 0 0 0 0 0 0 0 0 0 0 0 0 0 0 0 0 0 0 0 0 0 0 0 0 0 0 0 0 0 0 0 0\n",
            " 0 0 0 0 0 0 0 0 0 0 0 0 0 0 0 0 0 0 0 0 0 0 0 0 0 0 0 0 0 0 0 0 0 0 0 0 0\n",
            " 0 0 0 0 0 0 0 0 0 0 0 0 0 0 0 0 0 0 0 0 0 0 0 0 0 0 0 0 0 0 0 0 0 0 0 0 0\n",
            " 0 0 0 0 0 0 0 0 0 0 0 0 0 0 0 0 0 0 0 0 0 0 0 0 0 0 0 0 0 0 0 0 0 0 0 0 0\n",
            " 0 0 0 0 0 0 0 0 0 0 0 0 0 0 0 0 0 0 0 0 0 2 0 0 0 0 0 0 0 0 0 0 0 0 0 0 0\n",
            " 0 0 0 0 0 0 0 0 0 0 0 0 0 0 0 0 0 0 0 0 0 0 0 0 0 0 0 0 0 0 0 0 0 0 0 1 1\n",
            " 1 1 1 1 1 1 1 1 1 1 1 1 1 1 1 1 1 1 1 1 1 1 1 1 1 1 1 1 1 1 1 1 1 1 1 1 1\n",
            " 1 1 1 1 1 1 1 1 1 1 1 1 1 1 1 1 1 1 1 1 1 1 1 1 1 1 1 1 1 1 1 1 1 1 1 1 1\n",
            " 1 1 1 1 1 1 1 1 1 1 1 1 1 1 1 1 1 1 1 1 1 1 1 1 1 1 1 1 1 1 1 1 1 1 1 1 1\n",
            " 1 1 1 1 1 1 0 1 1 1 1]\n"
          ],
          "name": "stdout"
        }
      ]
    },
    {
      "cell_type": "code",
      "metadata": {
        "id": "RiJ1AsZ3PhZc"
      },
      "source": [
        "labels = agc.labels_.copy()\n",
        "X=df_normal.copy()\n",
        "labels_true=df_normal['species'].copy()"
      ],
      "execution_count": null,
      "outputs": []
    },
    {
      "cell_type": "code",
      "metadata": {
        "colab": {
          "base_uri": "https://localhost:8080/"
        },
        "id": "RC4CKX5bPhZd",
        "outputId": "ea2988cc-630c-4e01-ef1e-febaf8e12770"
      },
      "source": [
        "print(classification_report(df_normal.species,agc.labels_))"
      ],
      "execution_count": null,
      "outputs": [
        {
          "output_type": "stream",
          "text": [
            "              precision    recall  f1-score   support\n",
            "\n",
            "           0       0.69      1.00      0.82       152\n",
            "           1       1.00      0.99      1.00       124\n",
            "           2       1.00      0.01      0.03        68\n",
            "\n",
            "    accuracy                           0.80       344\n",
            "   macro avg       0.90      0.67      0.61       344\n",
            "weighted avg       0.86      0.80      0.73       344\n",
            "\n"
          ],
          "name": "stdout"
        }
      ]
    },
    {
      "cell_type": "code",
      "metadata": {
        "colab": {
          "base_uri": "https://localhost:8080/",
          "height": 35
        },
        "id": "eh2v7NFHPhZd",
        "outputId": "b2b49871-93fb-4ddc-dba4-6278edd94e54"
      },
      "source": [
        "f\"Accuracy : {np.round(100*accuracy_score(df_normal.species,agc.labels_),2)}\""
      ],
      "execution_count": null,
      "outputs": [
        {
          "output_type": "execute_result",
          "data": {
            "application/vnd.google.colaboratory.intrinsic+json": {
              "type": "string"
            },
            "text/plain": [
              "'Accuracy : 80.23'"
            ]
          },
          "metadata": {
            "tags": []
          },
          "execution_count": 81
        }
      ]
    },
    {
      "cell_type": "markdown",
      "metadata": {
        "id": "8YHQbfW1-JxX"
      },
      "source": [
        "##Runtime"
      ]
    },
    {
      "cell_type": "code",
      "metadata": {
        "colab": {
          "base_uri": "https://localhost:8080/"
        },
        "id": "DpBp5V24PhZe",
        "outputId": "130615e4-71aa-45c5-a635-0208b2618ad2"
      },
      "source": [
        "print('KMC Time: ', stopagc - startagc)"
      ],
      "execution_count": null,
      "outputs": [
        {
          "output_type": "stream",
          "text": [
            "KMC Time:  0.012160301000221807\n"
          ],
          "name": "stdout"
        }
      ]
    },
    {
      "cell_type": "markdown",
      "metadata": {
        "id": "iQISpbP2PhZe"
      },
      "source": [
        "##Evaluasi Clustering"
      ]
    },
    {
      "cell_type": "markdown",
      "metadata": {
        "id": "x7bhf-R9PhZf"
      },
      "source": [
        "###Davies-Bouldin Index"
      ]
    },
    {
      "cell_type": "code",
      "metadata": {
        "colab": {
          "base_uri": "https://localhost:8080/"
        },
        "id": "se50YB_DPhZf",
        "outputId": "69740881-a60a-428e-8ad9-c2b047c478b8"
      },
      "source": [
        "from sklearn.metrics import davies_bouldin_score\n",
        "davies_bouldin_score(X, labels)"
      ],
      "execution_count": null,
      "outputs": [
        {
          "output_type": "execute_result",
          "data": {
            "text/plain": [
              "0.7673722269599437"
            ]
          },
          "metadata": {
            "tags": []
          },
          "execution_count": 40
        }
      ]
    },
    {
      "cell_type": "markdown",
      "metadata": {
        "id": "BUc4d8eIPhZf"
      },
      "source": [
        "###Silhouette Coefficient"
      ]
    },
    {
      "cell_type": "code",
      "metadata": {
        "colab": {
          "base_uri": "https://localhost:8080/"
        },
        "id": "8DbR1VsRPhZf",
        "outputId": "ffc56d00-1557-44b0-b0f9-d872a1cd0ee9"
      },
      "source": [
        "from sklearn import metrics\n",
        "from sklearn.metrics import pairwise_distances\n",
        "metrics.silhouette_score(X, labels, metric='euclidean')"
      ],
      "execution_count": null,
      "outputs": [
        {
          "output_type": "execute_result",
          "data": {
            "text/plain": [
              "0.3746815662583901"
            ]
          },
          "metadata": {
            "tags": []
          },
          "execution_count": 41
        }
      ]
    },
    {
      "cell_type": "markdown",
      "metadata": {
        "id": "PTo9q3ABPhZg"
      },
      "source": [
        "###Rand index"
      ]
    },
    {
      "cell_type": "code",
      "metadata": {
        "colab": {
          "base_uri": "https://localhost:8080/"
        },
        "id": "LpX6HMsNPhZg",
        "outputId": "f7b6badb-0147-4961-e3fd-4bc7a0c1e27e"
      },
      "source": [
        "from sklearn import metrics\n",
        "metrics.adjusted_rand_score(labels_true, labels)"
      ],
      "execution_count": null,
      "outputs": [
        {
          "output_type": "execute_result",
          "data": {
            "text/plain": [
              "0.6477753332635344"
            ]
          },
          "metadata": {
            "tags": []
          },
          "execution_count": 42
        }
      ]
    },
    {
      "cell_type": "markdown",
      "metadata": {
        "id": "kz7bbGeZPhZh"
      },
      "source": [
        "###Mutual Information based scores"
      ]
    },
    {
      "cell_type": "code",
      "metadata": {
        "colab": {
          "base_uri": "https://localhost:8080/"
        },
        "id": "iZq2NE8UPhZh",
        "outputId": "45365c4d-7cce-4fc8-e714-1c86f68c5b66"
      },
      "source": [
        "from sklearn import metrics\n",
        "metrics.adjusted_mutual_info_score(labels_true, labels) "
      ],
      "execution_count": null,
      "outputs": [
        {
          "output_type": "execute_result",
          "data": {
            "text/plain": [
              "0.7407849429901993"
            ]
          },
          "metadata": {
            "tags": []
          },
          "execution_count": 43
        }
      ]
    },
    {
      "cell_type": "markdown",
      "metadata": {
        "id": "daUaeXTgPhZh"
      },
      "source": [
        "###Homogeneity"
      ]
    },
    {
      "cell_type": "code",
      "metadata": {
        "colab": {
          "base_uri": "https://localhost:8080/"
        },
        "id": "2MxPSDORPhZi",
        "outputId": "50bbf875-2890-44e2-aa8f-5df3ccba30e9"
      },
      "source": [
        "from sklearn import metrics\n",
        "metrics.homogeneity_score(labels_true, labels)"
      ],
      "execution_count": null,
      "outputs": [
        {
          "output_type": "execute_result",
          "data": {
            "text/plain": [
              "0.6086170245689361"
            ]
          },
          "metadata": {
            "tags": []
          },
          "execution_count": 44
        }
      ]
    },
    {
      "cell_type": "markdown",
      "metadata": {
        "id": "9BEBA8xTPhZi"
      },
      "source": [
        "###Completeness"
      ]
    },
    {
      "cell_type": "code",
      "metadata": {
        "colab": {
          "base_uri": "https://localhost:8080/"
        },
        "id": "C-ZbaP21PhZi",
        "outputId": "5f18f4f5-5567-45a7-d0ca-989c7bd132e3"
      },
      "source": [
        "from sklearn import metrics\n",
        "metrics.completeness_score(labels_true, labels)"
      ],
      "execution_count": null,
      "outputs": [
        {
          "output_type": "execute_result",
          "data": {
            "text/plain": [
              "0.952192795543102"
            ]
          },
          "metadata": {
            "tags": []
          },
          "execution_count": 45
        }
      ]
    },
    {
      "cell_type": "markdown",
      "metadata": {
        "id": "WNtkV4LyPhZi"
      },
      "source": [
        "###V-measure"
      ]
    },
    {
      "cell_type": "code",
      "metadata": {
        "colab": {
          "base_uri": "https://localhost:8080/"
        },
        "id": "ZKQKfK9ZPhZj",
        "outputId": "c315bb7d-ee17-4ebc-cceb-95524d4f4186"
      },
      "source": [
        "from sklearn import metrics\n",
        "metrics.v_measure_score(labels_true, labels)"
      ],
      "execution_count": null,
      "outputs": [
        {
          "output_type": "execute_result",
          "data": {
            "text/plain": [
              "0.7425898255789047"
            ]
          },
          "metadata": {
            "tags": []
          },
          "execution_count": 46
        }
      ]
    },
    {
      "cell_type": "markdown",
      "metadata": {
        "id": "buiVtXr-PhZj"
      },
      "source": [
        "###Fowlkes-Mallows scores"
      ]
    },
    {
      "cell_type": "code",
      "metadata": {
        "colab": {
          "base_uri": "https://localhost:8080/"
        },
        "id": "j2s13KBqPhZj",
        "outputId": "1195d643-509c-4d39-cced-3450735aa9f2"
      },
      "source": [
        "from sklearn import metrics\n",
        "metrics.fowlkes_mallows_score(labels_true, labels)"
      ],
      "execution_count": null,
      "outputs": [
        {
          "output_type": "execute_result",
          "data": {
            "text/plain": [
              "0.81532671477087"
            ]
          },
          "metadata": {
            "tags": []
          },
          "execution_count": 47
        }
      ]
    },
    {
      "cell_type": "markdown",
      "metadata": {
        "id": "YGBVJ8pQPhZj"
      },
      "source": [
        "###Calinski-Harabasz Index"
      ]
    },
    {
      "cell_type": "code",
      "metadata": {
        "colab": {
          "base_uri": "https://localhost:8080/"
        },
        "id": "OqMKzMGTPhZj",
        "outputId": "2f053e31-a2fd-4cf5-faa5-d50b6d3ef36f"
      },
      "source": [
        "from sklearn import metrics\n",
        "from sklearn.metrics import pairwise_distances\n",
        "metrics.calinski_harabasz_score(X, labels)"
      ],
      "execution_count": null,
      "outputs": [
        {
          "output_type": "execute_result",
          "data": {
            "text/plain": [
              "157.45825253660237"
            ]
          },
          "metadata": {
            "tags": []
          },
          "execution_count": 48
        }
      ]
    },
    {
      "cell_type": "markdown",
      "metadata": {
        "id": "AWMkhlc4UAdQ"
      },
      "source": [
        "#K-Nearest Neighbours Classification"
      ]
    },
    {
      "cell_type": "code",
      "metadata": {
        "id": "ymsGkIbXDyma"
      },
      "source": [
        "#time counter\n",
        "import timeit\n"
      ],
      "execution_count": null,
      "outputs": []
    },
    {
      "cell_type": "code",
      "metadata": {
        "id": "vcnTdjCZxiIe"
      },
      "source": [
        "#import library\n",
        "from sklearn.model_selection import train_test_split\n",
        "from sklearn.neighbors import KNeighborsClassifier\n",
        "\n",
        "#membagi data menjadi data train dan test\n",
        "X_train, X_test, y_train, y_test = train_test_split(df_normal.drop('species',axis=1),target,test_size=0.50,random_state=24)"
      ],
      "execution_count": null,
      "outputs": []
    },
    {
      "cell_type": "code",
      "metadata": {
        "colab": {
          "base_uri": "https://localhost:8080/"
        },
        "id": "_kSMLiVgx5_L",
        "outputId": "3584bd09-72cc-4ded-d0eb-76a5d1a95cf6"
      },
      "source": [
        "knn = KNeighborsClassifier(n_neighbors=6)\n",
        "knn.fit(X_train,y_train)\n",
        "startknn = timeit.default_timer()\n",
        "preds_knn = knn.predict(X_test)\n",
        "stopknn = timeit.default_timer()\n",
        "print(confusion_matrix(y_test,preds_knn))"
      ],
      "execution_count": null,
      "outputs": [
        {
          "output_type": "stream",
          "text": [
            "[[79  0  0]\n",
            " [ 0 60  0]\n",
            " [ 2  0 31]]\n"
          ],
          "name": "stdout"
        }
      ]
    },
    {
      "cell_type": "code",
      "metadata": {
        "colab": {
          "base_uri": "https://localhost:8080/"
        },
        "id": "j63fh_ubyQB6",
        "outputId": "e9e39805-f042-4af7-dc36-fd4541c9b77c"
      },
      "source": [
        "print(classification_report(y_test,preds_knn))"
      ],
      "execution_count": null,
      "outputs": [
        {
          "output_type": "stream",
          "text": [
            "              precision    recall  f1-score   support\n",
            "\n",
            "           0       0.98      1.00      0.99        79\n",
            "           1       1.00      1.00      1.00        60\n",
            "           2       1.00      0.94      0.97        33\n",
            "\n",
            "    accuracy                           0.99       172\n",
            "   macro avg       0.99      0.98      0.99       172\n",
            "weighted avg       0.99      0.99      0.99       172\n",
            "\n"
          ],
          "name": "stdout"
        }
      ]
    },
    {
      "cell_type": "markdown",
      "metadata": {
        "id": "2ER8trgmBb9_"
      },
      "source": [
        "##Runtime"
      ]
    },
    {
      "cell_type": "code",
      "metadata": {
        "colab": {
          "base_uri": "https://localhost:8080/"
        },
        "id": "PGEtVjTDELHB",
        "outputId": "aced1279-6440-4624-d7e8-d43b1fccd5b0"
      },
      "source": [
        "print('KNN Time: ', stopknn - startknn)"
      ],
      "execution_count": null,
      "outputs": [
        {
          "output_type": "stream",
          "text": [
            "KNN Time:  0.011676911999529693\n"
          ],
          "name": "stdout"
        }
      ]
    },
    {
      "cell_type": "markdown",
      "metadata": {
        "id": "yiKICth1zr3R"
      },
      "source": [
        "##Evaluasi Klasifikasi"
      ]
    },
    {
      "cell_type": "code",
      "metadata": {
        "colab": {
          "base_uri": "https://localhost:8080/",
          "height": 284
        },
        "id": "xOy6DRvwyvMx",
        "outputId": "f63db6d5-0b68-40b0-ec13-1ceb4d4d49e8"
      },
      "source": [
        "plt.title(\"K Nearest Neighbors Confusion Matrix\")\n",
        "sns.heatmap(confusion_matrix(y_test,preds_knn),annot=True,cmap=\"Blues\",fmt=\"d\",cbar=False, annot_kws={\"size\": 20});"
      ],
      "execution_count": null,
      "outputs": [
        {
          "output_type": "display_data",
          "data": {
            "image/png": "[encoded data removed]",
            "text/plain": [
              "<Figure size 432x288 with 1 Axes>"
            ]
          },
          "metadata": {
            "tags": [],
            "needs_background": "light"
          }
        }
      ]
    },
    {
      "cell_type": "code",
      "metadata": {
        "id": "LHShxb6wJu0x"
      },
      "source": [
        "cm=confusion_matrix(y_test,preds_knn)"
      ],
      "execution_count": null,
      "outputs": []
    },
    {
      "cell_type": "markdown",
      "metadata": {
        "id": "VlTupOMLyzsv"
      },
      "source": [
        "1. True Positives (TP)  : "
      ]
    },
    {
      "cell_type": "code",
      "metadata": {
        "colab": {
          "base_uri": "https://localhost:8080/"
        },
        "id": "1bEQhFTwKXMA",
        "outputId": "4ebc8050-5d53-4aaa-a5e8-b6e6c11fbac2"
      },
      "source": [
        "tp=cm[0,0]\n",
        "print(tp)"
      ],
      "execution_count": null,
      "outputs": [
        {
          "output_type": "stream",
          "text": [
            "79\n"
          ],
          "name": "stdout"
        }
      ]
    },
    {
      "cell_type": "markdown",
      "metadata": {
        "id": "pOm_lwrJKhX-"
      },
      "source": [
        "2. False Negatives (FN) : "
      ]
    },
    {
      "cell_type": "code",
      "metadata": {
        "colab": {
          "base_uri": "https://localhost:8080/"
        },
        "id": "UiuuExFMKtT_",
        "outputId": "1f02d29e-7295-4d1a-f728-fbff9dc116cc"
      },
      "source": [
        "fn=cm[0,1]+cm[0,2]\n",
        "print(fn)"
      ],
      "execution_count": null,
      "outputs": [
        {
          "output_type": "stream",
          "text": [
            "0\n"
          ],
          "name": "stdout"
        }
      ]
    },
    {
      "cell_type": "markdown",
      "metadata": {
        "id": "-u5cZJ6LKhfn"
      },
      "source": [
        "3. False Positive (FP)  : "
      ]
    },
    {
      "cell_type": "code",
      "metadata": {
        "colab": {
          "base_uri": "https://localhost:8080/"
        },
        "id": "lD0n-AAYK3gY",
        "outputId": "a268bee8-0b50-4a61-c11e-6c7f5a6cbf47"
      },
      "source": [
        "fp=cm[1,0]+cm[2,0]\n",
        "print(fp)"
      ],
      "execution_count": null,
      "outputs": [
        {
          "output_type": "stream",
          "text": [
            "2\n"
          ],
          "name": "stdout"
        }
      ]
    },
    {
      "cell_type": "markdown",
      "metadata": {
        "id": "ggs6FXGSKhok"
      },
      "source": [
        "4. True Negatives (TN) : "
      ]
    },
    {
      "cell_type": "code",
      "metadata": {
        "colab": {
          "base_uri": "https://localhost:8080/"
        },
        "id": "FghpcsGIK9ml",
        "outputId": "6dee0294-8fa5-4827-c734-987d43500372"
      },
      "source": [
        "tn=cm[1,1]+cm[1,2]+cm[2,1]+cm[2,2]\n",
        "print(tn)"
      ],
      "execution_count": null,
      "outputs": [
        {
          "output_type": "stream",
          "text": [
            "91\n"
          ],
          "name": "stdout"
        }
      ]
    },
    {
      "cell_type": "code",
      "metadata": {
        "colab": {
          "base_uri": "https://localhost:8080/"
        },
        "id": "Yra2RapTyyWI",
        "outputId": "6eae4d9e-6bea-4a31-c2bf-d76ec697737e"
      },
      "source": [
        "akurasi = (tp+tn) / (tp+tn+fp+fn)\n",
        "print (\"Accuracy : \",akurasi)"
      ],
      "execution_count": null,
      "outputs": [
        {
          "output_type": "stream",
          "text": [
            "Accuracy :  0.9883720930232558\n"
          ],
          "name": "stdout"
        }
      ]
    },
    {
      "cell_type": "markdown",
      "metadata": {
        "id": "ZXm1Wb5fzyKw"
      },
      "source": [
        "###Recall"
      ]
    },
    {
      "cell_type": "code",
      "metadata": {
        "colab": {
          "base_uri": "https://localhost:8080/"
        },
        "id": "mE68Zd23zv3M",
        "outputId": "4bd84f66-29fd-45cf-d0db-3fa40cd70757"
      },
      "source": [
        "recall = tp / (tp+fn)\n",
        "print (\"Recall : \",recall)"
      ],
      "execution_count": null,
      "outputs": [
        {
          "output_type": "stream",
          "text": [
            "Recall :  1.0\n"
          ],
          "name": "stdout"
        }
      ]
    },
    {
      "cell_type": "markdown",
      "metadata": {
        "id": "b5JgBPw5Lk60"
      },
      "source": [
        "###Specificity"
      ]
    },
    {
      "cell_type": "code",
      "metadata": {
        "colab": {
          "base_uri": "https://localhost:8080/"
        },
        "id": "wrh5lug4LmUu",
        "outputId": "17027491-50d7-456e-c699-c3200ff7bec3"
      },
      "source": [
        "specificity= tn / (fp+tn)\n",
        "print (\"Specificity : \",specificity)"
      ],
      "execution_count": null,
      "outputs": [
        {
          "output_type": "stream",
          "text": [
            "Specificity :  0.978494623655914\n"
          ],
          "name": "stdout"
        }
      ]
    },
    {
      "cell_type": "markdown",
      "metadata": {
        "id": "JPthOcIQz8Qt"
      },
      "source": [
        "###Precision"
      ]
    },
    {
      "cell_type": "code",
      "metadata": {
        "colab": {
          "base_uri": "https://localhost:8080/"
        },
        "id": "fReISZvfzvl5",
        "outputId": "b46b30e2-a206-4d11-a0d2-a771b0010680"
      },
      "source": [
        "precision = tp / (fp+tp)\n",
        "print (\"Precision : \",precision)"
      ],
      "execution_count": null,
      "outputs": [
        {
          "output_type": "stream",
          "text": [
            "Precision :  0.9753086419753086\n"
          ],
          "name": "stdout"
        }
      ]
    },
    {
      "cell_type": "markdown",
      "metadata": {
        "id": "ipcEfivC0HdW"
      },
      "source": [
        "###F1_Measure"
      ]
    },
    {
      "cell_type": "code",
      "metadata": {
        "colab": {
          "base_uri": "https://localhost:8080/"
        },
        "id": "hMsqrkekzw9B",
        "outputId": "ab8c0370-b1b2-422e-afb7-e2fad19f3c0d"
      },
      "source": [
        "f1 = (2*precision*recall) / (precision + recall)\n",
        "print (\"F1-Measure : \",f1)"
      ],
      "execution_count": null,
      "outputs": [
        {
          "output_type": "stream",
          "text": [
            "F1-Measure :  0.9875\n"
          ],
          "name": "stdout"
        }
      ]
    },
    {
      "cell_type": "markdown",
      "metadata": {
        "id": "KuySjxshNUuX"
      },
      "source": [
        "#Support Vector Machine Classification"
      ]
    },
    {
      "cell_type": "code",
      "metadata": {
        "id": "RYCJMIfqNUuc"
      },
      "source": [
        "#time counter\n",
        "import timeit\n"
      ],
      "execution_count": null,
      "outputs": []
    },
    {
      "cell_type": "code",
      "metadata": {
        "id": "XPlCcujuNUud"
      },
      "source": [
        "#membagi import library\n",
        "from sklearn.model_selection import train_test_split\n",
        "from sklearn.svm import SVC\n",
        "\n",
        "#membagi data menjadi data train dan test\n",
        "X_train, X_test, y_train, y_test = train_test_split(df_normal.drop('species',axis=1),target,test_size=0.50,random_state=24)"
      ],
      "execution_count": null,
      "outputs": []
    },
    {
      "cell_type": "code",
      "metadata": {
        "colab": {
          "base_uri": "https://localhost:8080/"
        },
        "id": "NWLBe8GuNUue",
        "outputId": "cad938ea-212c-407b-9ae4-1953a15bda69"
      },
      "source": [
        "svc_model = SVC()\n",
        "svc_model.fit(X_train, y_train)\n",
        "startsvm = timeit.default_timer()\n",
        "preds_svm = svc_model.predict(X_test)\n",
        "stopsvm = timeit.default_timer()\n",
        "print(confusion_matrix(y_test,preds_svm))"
      ],
      "execution_count": null,
      "outputs": [
        {
          "output_type": "stream",
          "text": [
            "[[79  0  0]\n",
            " [ 0 60  0]\n",
            " [ 4  0 29]]\n"
          ],
          "name": "stdout"
        }
      ]
    },
    {
      "cell_type": "code",
      "metadata": {
        "colab": {
          "base_uri": "https://localhost:8080/"
        },
        "id": "wovJazF4NUuf",
        "outputId": "cc64c483-01f2-41f6-8ec4-9c4abc9e5716"
      },
      "source": [
        "print(classification_report(y_test,preds_svm))"
      ],
      "execution_count": null,
      "outputs": [
        {
          "output_type": "stream",
          "text": [
            "              precision    recall  f1-score   support\n",
            "\n",
            "           0       0.95      1.00      0.98        79\n",
            "           1       1.00      1.00      1.00        60\n",
            "           2       1.00      0.88      0.94        33\n",
            "\n",
            "    accuracy                           0.98       172\n",
            "   macro avg       0.98      0.96      0.97       172\n",
            "weighted avg       0.98      0.98      0.98       172\n",
            "\n"
          ],
          "name": "stdout"
        }
      ]
    },
    {
      "cell_type": "markdown",
      "metadata": {
        "id": "GGSyXwckNUug"
      },
      "source": [
        "##Runtime"
      ]
    },
    {
      "cell_type": "code",
      "metadata": {
        "colab": {
          "base_uri": "https://localhost:8080/"
        },
        "id": "jJm7w3FPNUug",
        "outputId": "54596644-2081-4e11-ce16-b4aa43bde768"
      },
      "source": [
        "print('SVM Time: ', stopsvm - startsvm)"
      ],
      "execution_count": null,
      "outputs": [
        {
          "output_type": "stream",
          "text": [
            "SVM Time:  0.0020342839998193085\n"
          ],
          "name": "stdout"
        }
      ]
    },
    {
      "cell_type": "markdown",
      "metadata": {
        "id": "9-As_Vh6NUug"
      },
      "source": [
        "##Evaluasi Klasifikasi"
      ]
    },
    {
      "cell_type": "code",
      "metadata": {
        "colab": {
          "base_uri": "https://localhost:8080/",
          "height": 284
        },
        "id": "nAlsTo2ANUuh",
        "outputId": "913021ec-aa29-48d7-b3a1-bc9dc8d1cbf3"
      },
      "source": [
        "plt.title(\"Support Vector Machine Confusion Matrix\")\n",
        "sns.heatmap(confusion_matrix(y_test,preds_svm),annot=True,cmap=\"Blues\",fmt=\"d\",cbar=False, annot_kws={\"size\": 20});"
      ],
      "execution_count": null,
      "outputs": [
        {
          "output_type": "display_data",
          "data": {
            "image/png": "[encoded data removed]",
            "text/plain": [
              "<Figure size 432x288 with 1 Axes>"
            ]
          },
          "metadata": {
            "tags": [],
            "needs_background": "light"
          }
        }
      ]
    },
    {
      "cell_type": "code",
      "metadata": {
        "id": "wnUmDj6INUuh"
      },
      "source": [
        "cm=confusion_matrix(y_test,preds_svm)"
      ],
      "execution_count": null,
      "outputs": []
    },
    {
      "cell_type": "markdown",
      "metadata": {
        "id": "DIH-8U5wNUui"
      },
      "source": [
        "1. True Positives (TP)  : "
      ]
    },
    {
      "cell_type": "code",
      "metadata": {
        "colab": {
          "base_uri": "https://localhost:8080/"
        },
        "id": "p28wjlkdNUui",
        "outputId": "13fbd8ff-03fb-4bb5-9884-b7023fdb7d2d"
      },
      "source": [
        "tp=cm[0,0]\n",
        "print(tp)"
      ],
      "execution_count": null,
      "outputs": [
        {
          "output_type": "stream",
          "text": [
            "79\n"
          ],
          "name": "stdout"
        }
      ]
    },
    {
      "cell_type": "markdown",
      "metadata": {
        "id": "JxbwngDqNUui"
      },
      "source": [
        "2. False Negatives (FN) : "
      ]
    },
    {
      "cell_type": "code",
      "metadata": {
        "colab": {
          "base_uri": "https://localhost:8080/"
        },
        "id": "V0svSq4-NUuj",
        "outputId": "4763fd7b-ad8e-4085-a4ad-8b815552a9e0"
      },
      "source": [
        "fn=cm[0,1]+cm[0,2]\n",
        "print(fn)"
      ],
      "execution_count": null,
      "outputs": [
        {
          "output_type": "stream",
          "text": [
            "0\n"
          ],
          "name": "stdout"
        }
      ]
    },
    {
      "cell_type": "markdown",
      "metadata": {
        "id": "dXtbTkTWNUuj"
      },
      "source": [
        "3. False Positive (FP)  : "
      ]
    },
    {
      "cell_type": "code",
      "metadata": {
        "colab": {
          "base_uri": "https://localhost:8080/"
        },
        "id": "KqAYff3ANUuj",
        "outputId": "513a7b7a-84c2-48ec-e7c1-7a5622ebeec0"
      },
      "source": [
        "fp=cm[1,0]+cm[2,0]\n",
        "print(fp)"
      ],
      "execution_count": null,
      "outputs": [
        {
          "output_type": "stream",
          "text": [
            "4\n"
          ],
          "name": "stdout"
        }
      ]
    },
    {
      "cell_type": "markdown",
      "metadata": {
        "id": "zqe35XJNNUuj"
      },
      "source": [
        "4. True Negatives (TN) : "
      ]
    },
    {
      "cell_type": "code",
      "metadata": {
        "colab": {
          "base_uri": "https://localhost:8080/"
        },
        "id": "hiaXOb-QNUuk",
        "outputId": "bf15331f-1fae-462a-c7f8-fe6d8236d112"
      },
      "source": [
        "tn=cm[1,1]+cm[1,2]+cm[2,1]+cm[2,2]\n",
        "print(tn)"
      ],
      "execution_count": null,
      "outputs": [
        {
          "output_type": "stream",
          "text": [
            "89\n"
          ],
          "name": "stdout"
        }
      ]
    },
    {
      "cell_type": "code",
      "metadata": {
        "colab": {
          "base_uri": "https://localhost:8080/"
        },
        "id": "sL4vkwRiNUuk",
        "outputId": "15748da5-ce87-44e5-c393-2be07212a29c"
      },
      "source": [
        "akurasi = (tp+tn) / (tp+tn+fp+fn)\n",
        "print (\"Accuracy : \",akurasi)"
      ],
      "execution_count": null,
      "outputs": [
        {
          "output_type": "stream",
          "text": [
            "Accuracy :  0.9767441860465116\n"
          ],
          "name": "stdout"
        }
      ]
    },
    {
      "cell_type": "markdown",
      "metadata": {
        "id": "6khhhjLkNUuk"
      },
      "source": [
        "###Recall"
      ]
    },
    {
      "cell_type": "code",
      "metadata": {
        "colab": {
          "base_uri": "https://localhost:8080/"
        },
        "id": "3GNo8LWmNUul",
        "outputId": "b702233d-3a81-4f8e-e790-cab3edd09799"
      },
      "source": [
        "recall = tp / (tp+fn)\n",
        "print (\"Recall : \",recall)"
      ],
      "execution_count": null,
      "outputs": [
        {
          "output_type": "stream",
          "text": [
            "Recall :  1.0\n"
          ],
          "name": "stdout"
        }
      ]
    },
    {
      "cell_type": "markdown",
      "metadata": {
        "id": "z7N6lrywNUul"
      },
      "source": [
        "###Specificity"
      ]
    },
    {
      "cell_type": "code",
      "metadata": {
        "colab": {
          "base_uri": "https://localhost:8080/"
        },
        "id": "ihV6kmIWNUul",
        "outputId": "69ce86b4-113a-474c-c809-e25b4f12727e"
      },
      "source": [
        "specificity= tn / (fp+tn)\n",
        "print (\"Specificity : \",specificity)"
      ],
      "execution_count": null,
      "outputs": [
        {
          "output_type": "stream",
          "text": [
            "Specificity :  0.956989247311828\n"
          ],
          "name": "stdout"
        }
      ]
    },
    {
      "cell_type": "markdown",
      "metadata": {
        "id": "eqx-eu6zNUul"
      },
      "source": [
        "###Precision"
      ]
    },
    {
      "cell_type": "code",
      "metadata": {
        "colab": {
          "base_uri": "https://localhost:8080/"
        },
        "id": "0KfUjdxlNUul",
        "outputId": "bbe7197a-88d1-4834-e47c-53dc4f673535"
      },
      "source": [
        "precision = tp / (fp+tp)\n",
        "print (\"Precision : \",precision)"
      ],
      "execution_count": null,
      "outputs": [
        {
          "output_type": "stream",
          "text": [
            "Precision :  0.9518072289156626\n"
          ],
          "name": "stdout"
        }
      ]
    },
    {
      "cell_type": "markdown",
      "metadata": {
        "id": "1mYvQlxJNUum"
      },
      "source": [
        "###F1_Measure"
      ]
    },
    {
      "cell_type": "code",
      "metadata": {
        "colab": {
          "base_uri": "https://localhost:8080/"
        },
        "id": "95cIYCEqNUum",
        "outputId": "9c523384-4095-4b7d-e2be-a8707eda61c1"
      },
      "source": [
        "f1 = (2*precision*recall) / (precision + recall)\n",
        "print (\"F1-Measure : \",f1)"
      ],
      "execution_count": null,
      "outputs": [
        {
          "output_type": "stream",
          "text": [
            "F1-Measure :  0.9753086419753086\n"
          ],
          "name": "stdout"
        }
      ]
    }
  ]
}